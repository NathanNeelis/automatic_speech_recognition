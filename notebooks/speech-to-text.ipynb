{
 "cells": [
  {
   "cell_type": "code",
   "execution_count": 22,
   "id": "57091a5d-fa1f-42ef-a6a3-131421a50847",
   "metadata": {
    "collapsed": true,
    "jupyter": {
     "outputs_hidden": true
    }
   },
   "outputs": [
    {
     "name": "stdout",
     "output_type": "stream",
     "text": [
      "Looking in indexes: https://pypi.org/simple, https://pypi.ngc.nvidia.com\n",
      "Requirement already satisfied: pyaudio in c:\\users\\nathan\\appdata\\local\\programs\\python\\python311\\lib\\site-packages (from -r requirements.txt (line 1)) (0.2.14)\n",
      "Requirement already satisfied: faster-whisper in c:\\users\\nathan\\appdata\\local\\programs\\python\\python311\\lib\\site-packages (from -r requirements.txt (line 10)) (1.1.0)\n",
      "Collecting transformers (from -r requirements.txt (line 11))\n",
      "  Downloading transformers-4.47.1-py3-none-any.whl.metadata (44 kB)\n",
      "Collecting speechrecognition (from -r requirements.txt (line 12))\n",
      "  Downloading SpeechRecognition-3.13.0-py3-none-any.whl.metadata (30 kB)\n",
      "Requirement already satisfied: ctranslate2<5,>=4.0 in c:\\users\\nathan\\appdata\\local\\programs\\python\\python311\\lib\\site-packages (from faster-whisper->-r requirements.txt (line 10)) (4.5.0)\n",
      "Requirement already satisfied: huggingface-hub>=0.13 in c:\\users\\nathan\\appdata\\local\\programs\\python\\python311\\lib\\site-packages (from faster-whisper->-r requirements.txt (line 10)) (0.26.2)\n",
      "Requirement already satisfied: tokenizers<1,>=0.13 in c:\\users\\nathan\\appdata\\local\\programs\\python\\python311\\lib\\site-packages (from faster-whisper->-r requirements.txt (line 10)) (0.21.0)\n",
      "Requirement already satisfied: onnxruntime<2,>=1.14 in c:\\users\\nathan\\appdata\\local\\programs\\python\\python311\\lib\\site-packages (from faster-whisper->-r requirements.txt (line 10)) (1.20.1)\n",
      "Requirement already satisfied: av>=11 in c:\\users\\nathan\\appdata\\local\\programs\\python\\python311\\lib\\site-packages (from faster-whisper->-r requirements.txt (line 10)) (13.1.0)\n",
      "Requirement already satisfied: tqdm in c:\\users\\nathan\\appdata\\local\\programs\\python\\python311\\lib\\site-packages (from faster-whisper->-r requirements.txt (line 10)) (4.67.1)\n",
      "Requirement already satisfied: filelock in c:\\users\\nathan\\appdata\\local\\programs\\python\\python311\\lib\\site-packages (from transformers->-r requirements.txt (line 11)) (3.13.1)\n",
      "Requirement already satisfied: numpy>=1.17 in c:\\users\\nathan\\appdata\\local\\programs\\python\\python311\\lib\\site-packages (from transformers->-r requirements.txt (line 11)) (2.1.0)\n",
      "Requirement already satisfied: packaging>=20.0 in c:\\users\\nathan\\appdata\\local\\programs\\python\\python311\\lib\\site-packages (from transformers->-r requirements.txt (line 11)) (24.2)\n",
      "Requirement already satisfied: pyyaml>=5.1 in c:\\users\\nathan\\appdata\\local\\programs\\python\\python311\\lib\\site-packages (from transformers->-r requirements.txt (line 11)) (6.0.2)\n",
      "Requirement already satisfied: regex!=2019.12.17 in c:\\users\\nathan\\appdata\\local\\programs\\python\\python311\\lib\\site-packages (from transformers->-r requirements.txt (line 11)) (2024.11.6)\n",
      "Requirement already satisfied: requests in c:\\users\\nathan\\appdata\\local\\programs\\python\\python311\\lib\\site-packages (from transformers->-r requirements.txt (line 11)) (2.32.3)\n",
      "Collecting safetensors>=0.4.1 (from transformers->-r requirements.txt (line 11))\n",
      "  Downloading safetensors-0.4.5-cp311-none-win_amd64.whl.metadata (3.9 kB)\n",
      "Requirement already satisfied: typing-extensions in c:\\users\\nathan\\appdata\\local\\programs\\python\\python311\\lib\\site-packages (from speechrecognition->-r requirements.txt (line 12)) (4.12.2)\n",
      "Requirement already satisfied: setuptools in c:\\users\\nathan\\appdata\\local\\programs\\python\\python311\\lib\\site-packages (from ctranslate2<5,>=4.0->faster-whisper->-r requirements.txt (line 10)) (75.6.0)\n",
      "Requirement already satisfied: fsspec>=2023.5.0 in c:\\users\\nathan\\appdata\\local\\programs\\python\\python311\\lib\\site-packages (from huggingface-hub>=0.13->faster-whisper->-r requirements.txt (line 10)) (2024.2.0)\n",
      "Requirement already satisfied: coloredlogs in c:\\users\\nathan\\appdata\\local\\programs\\python\\python311\\lib\\site-packages (from onnxruntime<2,>=1.14->faster-whisper->-r requirements.txt (line 10)) (15.0.1)\n",
      "Requirement already satisfied: flatbuffers in c:\\users\\nathan\\appdata\\local\\programs\\python\\python311\\lib\\site-packages (from onnxruntime<2,>=1.14->faster-whisper->-r requirements.txt (line 10)) (24.3.25)\n",
      "Requirement already satisfied: protobuf in c:\\users\\nathan\\appdata\\local\\programs\\python\\python311\\lib\\site-packages (from onnxruntime<2,>=1.14->faster-whisper->-r requirements.txt (line 10)) (5.29.0)\n",
      "Requirement already satisfied: sympy in c:\\users\\nathan\\appdata\\local\\programs\\python\\python311\\lib\\site-packages (from onnxruntime<2,>=1.14->faster-whisper->-r requirements.txt (line 10)) (1.13.1)\n",
      "Requirement already satisfied: colorama in c:\\users\\nathan\\appdata\\local\\programs\\python\\python311\\lib\\site-packages (from tqdm->faster-whisper->-r requirements.txt (line 10)) (0.4.6)\n",
      "Requirement already satisfied: charset-normalizer<4,>=2 in c:\\users\\nathan\\appdata\\local\\programs\\python\\python311\\lib\\site-packages (from requests->transformers->-r requirements.txt (line 11)) (3.4.0)\n",
      "Requirement already satisfied: idna<4,>=2.5 in c:\\users\\nathan\\appdata\\local\\programs\\python\\python311\\lib\\site-packages (from requests->transformers->-r requirements.txt (line 11)) (3.10)\n",
      "Requirement already satisfied: urllib3<3,>=1.21.1 in c:\\users\\nathan\\appdata\\local\\programs\\python\\python311\\lib\\site-packages (from requests->transformers->-r requirements.txt (line 11)) (2.2.3)\n",
      "Requirement already satisfied: certifi>=2017.4.17 in c:\\users\\nathan\\appdata\\local\\programs\\python\\python311\\lib\\site-packages (from requests->transformers->-r requirements.txt (line 11)) (2024.8.30)\n",
      "Requirement already satisfied: humanfriendly>=9.1 in c:\\users\\nathan\\appdata\\local\\programs\\python\\python311\\lib\\site-packages (from coloredlogs->onnxruntime<2,>=1.14->faster-whisper->-r requirements.txt (line 10)) (10.0)\n",
      "Requirement already satisfied: mpmath<1.4,>=1.1.0 in c:\\users\\nathan\\appdata\\local\\programs\\python\\python311\\lib\\site-packages (from sympy->onnxruntime<2,>=1.14->faster-whisper->-r requirements.txt (line 10)) (1.3.0)\n",
      "Requirement already satisfied: pyreadline3 in c:\\users\\nathan\\appdata\\local\\programs\\python\\python311\\lib\\site-packages (from humanfriendly>=9.1->coloredlogs->onnxruntime<2,>=1.14->faster-whisper->-r requirements.txt (line 10)) (3.5.4)\n",
      "Downloading transformers-4.47.1-py3-none-any.whl (10.1 MB)\n",
      "   ---------------------------------------- 0.0/10.1 MB ? eta -:--:--\n",
      "   --------- ------------------------------ 2.4/10.1 MB 11.2 MB/s eta 0:00:01\n",
      "   ------------------ --------------------- 4.7/10.1 MB 11.9 MB/s eta 0:00:01\n",
      "   --------------------------- ------------ 7.1/10.1 MB 11.8 MB/s eta 0:00:01\n",
      "   ------------------------------------- -- 9.4/10.1 MB 11.7 MB/s eta 0:00:01\n",
      "   ---------------------------------------- 10.1/10.1 MB 11.7 MB/s eta 0:00:00\n",
      "Downloading SpeechRecognition-3.13.0-py3-none-any.whl (32.8 MB)\n",
      "   ---------------------------------------- 0.0/32.8 MB ? eta -:--:--\n",
      "   -- ------------------------------------- 2.4/32.8 MB 12.2 MB/s eta 0:00:03\n",
      "   ----- ---------------------------------- 4.7/32.8 MB 11.9 MB/s eta 0:00:03\n",
      "   -------- ------------------------------- 7.3/32.8 MB 11.9 MB/s eta 0:00:03\n",
      "   ----------- ---------------------------- 9.7/32.8 MB 11.8 MB/s eta 0:00:02\n",
      "   ------------ --------------------------- 10.2/32.8 MB 10.0 MB/s eta 0:00:03\n",
      "   --------------- ------------------------ 12.8/32.8 MB 10.2 MB/s eta 0:00:02\n",
      "   ------------------ --------------------- 15.2/32.8 MB 10.5 MB/s eta 0:00:02\n",
      "   --------------------- ------------------ 17.6/32.8 MB 10.6 MB/s eta 0:00:02\n",
      "   ----------------------- ---------------- 19.7/32.8 MB 10.7 MB/s eta 0:00:02\n",
      "   ----------------------- ---------------- 19.7/32.8 MB 10.7 MB/s eta 0:00:02\n",
      "   -------------------------- ------------- 22.0/32.8 MB 9.7 MB/s eta 0:00:02\n",
      "   ----------------------------- ---------- 24.4/32.8 MB 9.9 MB/s eta 0:00:01\n",
      "   -------------------------------- ------- 26.7/32.8 MB 10.0 MB/s eta 0:00:01\n",
      "   ----------------------------------- ---- 29.1/32.8 MB 10.2 MB/s eta 0:00:01\n",
      "   -------------------------------------- - 31.5/32.8 MB 10.3 MB/s eta 0:00:01\n",
      "   ---------------------------------------- 32.8/32.8 MB 10.3 MB/s eta 0:00:00\n",
      "Downloading safetensors-0.4.5-cp311-none-win_amd64.whl (285 kB)\n",
      "Installing collected packages: speechrecognition, safetensors, transformers\n",
      "Successfully installed safetensors-0.4.5 speechrecognition-3.13.0 transformers-4.47.1\n",
      "Note: you may need to restart the kernel to use updated packages.\n"
     ]
    }
   ],
   "source": [
    "# pip installs\n",
    "# pip install torch torchvision torchaudio --index-url https://download.pytorch.org/whl/cu124\n",
    "%pip install -r requirements.txt"
   ]
  },
  {
   "cell_type": "code",
   "execution_count": 16,
   "id": "c1291c7a-476a-43f0-a879-2fb14ab3089a",
   "metadata": {},
   "outputs": [],
   "source": [
    "from faster_whisper import WhisperModel\n",
    "import torch\n",
    "import pyaudio\n",
    "import sys\n",
    "import wave\n",
    "import numpy as np"
   ]
  },
  {
   "cell_type": "code",
   "execution_count": 3,
   "id": "c4a69a8c-e9f6-45ca-8b28-1465a36e04d9",
   "metadata": {},
   "outputs": [],
   "source": [
    "# functions\n",
    "\n",
    "\n",
    "def record_audio_chunk(p, stream, filepath, chunk_lenght=1):\n",
    "    frames = []\n",
    "    for _ in range (0, int(1600 / 1024 * chunk_length)):\n",
    "        data = stream.read(1024)\n",
    "        frames.append(data)\n",
    "\n",
    "    wf = wave.open(filepath, 'wb')\n",
    "    wf.setnchannels(1)\n",
    "    wf.setampwidth(p.get_sample_size(pyaudio.paInt16))\n",
    "    wf.setframerate(16000)\n",
    "    wf.writeframes(b''.join(frames))\n",
    "    wf.close()\n",
    "\n",
    "\n",
    "# def transcribe():\n",
    "#     model_size = \"medium\"\n",
    "#     model = WhisperModel(model_size, device=\"cuda\", compute_type=\"float16\")\n",
    "\n",
    "#     p = pyaudio.PyAudio()\n",
    "#     stream = p.open(format=pyaudio.paInt16, channels=1, rate=16000, input=True, frames_per_buffer=1024)\n",
    "\n",
    "#     accumulated_transcription = \"\" # initialize var to store script\n",
    "\n",
    "#     try:\n",
    "#         while True:\n",
    "#             chunk_file = \"temp_chunk.wav\"\n",
    "#             record_audio_chunk(p, stream, chunk_file)\n",
    "#             transcription = transcribe_chunk\n",
    "            \n",
    "\n",
    "\n"
   ]
  },
  {
   "cell_type": "code",
   "execution_count": 4,
   "id": "1d3fc52f-d4f2-4368-a71d-934c9479db2c",
   "metadata": {},
   "outputs": [
    {
     "name": "stdout",
     "output_type": "stream",
     "text": [
      "[0.96s -> 2.88s]  Please verify you are a human.\n",
      "[2.88s -> 3.72s]  I'll wait.\n"
     ]
    }
   ],
   "source": [
    "# Initialize the Faster Whisper model\n",
    "model = WhisperModel(\"medium\", device=\"cuda\" if torch.cuda.is_available() else \"cpu\")\n",
    "\n",
    "# Path to your audio file\n",
    "# audio_path = \"test.mp3\"\n",
    "\n",
    "segments, info = model.transcribe(\"test.mp3\")\n",
    "for segment in segments:\n",
    "    print(\"[%.2fs -> %.2fs] %s\" % (segment.start, segment.end, segment.text))\n"
   ]
  },
  {
   "cell_type": "code",
   "execution_count": 5,
   "id": "81674ec9-ee17-4ff5-ae14-2de8978f4a87",
   "metadata": {},
   "outputs": [
    {
     "name": "stdout",
     "output_type": "stream",
     "text": [
      "PyTorch version: 2.5.1+cu124\n",
      "CUDA device is available: True\n"
     ]
    }
   ],
   "source": [
    "# Check PyTorch version\n",
    "print(f\"PyTorch version: {torch.__version__}\")\n",
    "# Check if CUDA device is recognised\n",
    "print(f\"CUDA device is available: {torch.cuda.is_available()}\")"
   ]
  },
  {
   "cell_type": "code",
   "execution_count": 6,
   "id": "955de905-1218-4fc1-9776-12a8f482aa5f",
   "metadata": {
    "scrolled": true
   },
   "outputs": [
    {
     "name": "stdout",
     "output_type": "stream",
     "text": [
      "True\n",
      "True\n"
     ]
    }
   ],
   "source": [
    "print(torch.cuda.is_available())\n",
    "print(torch.backends.cudnn.enabled)"
   ]
  },
  {
   "cell_type": "code",
   "execution_count": 7,
   "id": "6bb249ff-5a05-41b1-9d9a-330b89f197cd",
   "metadata": {},
   "outputs": [
    {
     "name": "stdout",
     "output_type": "stream",
     "text": [
      "Looking in indexes: https://pypi.org/simple, https://pypi.ngc.nvidia.com\n",
      "Requirement already satisfied: pygame in c:\\users\\nathan\\appdata\\local\\programs\\python\\python311\\lib\\site-packages (2.6.1)\n",
      "Note: you may need to restart the kernel to use updated packages.\n"
     ]
    }
   ],
   "source": [
    "pip install pygame"
   ]
  },
  {
   "cell_type": "code",
   "execution_count": 21,
   "id": "bfe65936-0daa-47ee-b4dd-e6b9ed64e687",
   "metadata": {},
   "outputs": [],
   "source": [
    "import pygame\n",
    "\n",
    "# Initialize the pygame mixer\n",
    "pygame.mixer.init()\n",
    "\n",
    "# Load and play the MP3 file\n",
    "pygame.mixer.music.load('temp_audio.wav')\n",
    "pygame.mixer.music.play()\n",
    "\n",
    "# Wait while the music is playing\n",
    "while pygame.mixer.music.get_busy():\n",
    "    pygame.time.Clock().tick(10)\n"
   ]
  },
  {
   "cell_type": "code",
   "execution_count": 20,
   "id": "4e4ea666-7ad2-42a6-9bdc-6ff42bec93e5",
   "metadata": {},
   "outputs": [
    {
     "ename": "IndentationError",
     "evalue": "unexpected indent (3382431851.py, line 5)",
     "output_type": "error",
     "traceback": [
      "\u001b[1;36m  Cell \u001b[1;32mIn[20], line 5\u001b[1;36m\u001b[0m\n\u001b[1;33m    channels=1,\u001b[0m\n\u001b[1;37m    ^\u001b[0m\n\u001b[1;31mIndentationError\u001b[0m\u001b[1;31m:\u001b[0m unexpected indent\n"
     ]
    }
   ],
   "source": [
    "# stream audio\n",
    "\n",
    "p = pyaudio.PyAudio()\n",
    "stream = p.open(format=p.paInt16), \n",
    "                channels=1, \n",
    "                rate=44100,\n",
    "                input=True,\n",
    "                frames_per_buffer=1024)\n",
    "\n",
    "frames = []\n",
    "\n",
    "try:\n",
    "    while True:\n",
    "        data = stream.read(1024)\n",
    "        frames.append(data)\n",
    "except KeyboardInterrupt:\n",
    "    pass\n",
    "\n",
    "stream.stop_stream()\n",
    "stream.close()\n",
    "p.terminate()\n",
    "\n",
    "sound_file = wave.open(\"myrecording.wav\", \"wb\")\n",
    "sound_file.setnchannels(1)\n",
    "sound_file.setsampwidth(p.get_sample_size(pyaudio.paInt16))\n",
    "sound_file.setframerate(44100)\n",
    "sound_file.writeframes(b''.join(frames))\n",
    "sound_file.close()\n",
    "\n"
   ]
  },
  {
   "cell_type": "code",
   "execution_count": 23,
   "id": "69ca2a6d-dce5-45a4-9ba1-aed3f7cca9d5",
   "metadata": {},
   "outputs": [
    {
     "name": "stdout",
     "output_type": "stream",
     "text": [
      "C:\\Users\\Nathan\\AppData\\Local\\Temp\n"
     ]
    }
   ],
   "source": [
    "import tempfile\n",
    "print(tempfile.gettempdir())  # Get the system's temporary directory"
   ]
  },
  {
   "cell_type": "code",
   "execution_count": null,
   "id": "3e35d88f-0b4e-4e73-923d-32b027f3cb0e",
   "metadata": {},
   "outputs": [],
   "source": []
  }
 ],
 "metadata": {
  "kernelspec": {
   "display_name": "Python 3 (ipykernel)",
   "language": "python",
   "name": "python3"
  },
  "language_info": {
   "codemirror_mode": {
    "name": "ipython",
    "version": 3
   },
   "file_extension": ".py",
   "mimetype": "text/x-python",
   "name": "python",
   "nbconvert_exporter": "python",
   "pygments_lexer": "ipython3",
   "version": "3.11.0"
  }
 },
 "nbformat": 4,
 "nbformat_minor": 5
}
